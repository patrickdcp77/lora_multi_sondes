{
 "cells": [
  {
   "cell_type": "markdown",
   "metadata": {},
   "source": [
    "# Importer les bibliothèques nécessaires\n",
    "Importer les bibliothèques nécessaires, y compris celles pour l'écran OLED et le capteur de température."
   ]
  },
  {
   "cell_type": "code",
   "execution_count": null,
   "metadata": {},
   "outputs": [],
   "source": [
    "# Importer les bibliothèques nécessaires\n",
    "import time\n",
    "import board\n",
    "import busio\n",
    "import adafruit_ssd1306\n",
    "import adafruit_dht\n",
    "\n",
    "# Initialiser l'I2C pour l'écran OLED\n",
    "i2c = busio.I2C(board.SCL, board.SDA)\n",
    "\n",
    "# Initialiser l'écran OLED\n",
    "oled = adafruit_ssd1306.SSD1306_I2C(128, 32, i2c)\n",
    "\n",
    "# Initialiser le capteur DHT22\n",
    "dht = adafruit_dht.DHT22(board.D4)"
   ]
  },
  {
   "cell_type": "markdown",
   "metadata": {},
   "source": [
    "# Initialiser l'écran OLED\n",
    "Initialiser l'écran OLED avec les paramètres appropriés pour le HTCC-AB02."
   ]
  },
  {
   "cell_type": "code",
   "execution_count": null,
   "metadata": {},
   "outputs": [],
   "source": [
    "# Initialiser l'écran OLED\n",
    "\n",
    "# Effacer l'écran pour s'assurer qu'il est vide\n",
    "oled.fill(0)\n",
    "oled.show()\n",
    "\n",
    "# Définir la taille du texte\n",
    "oled.text_size = 1\n",
    "\n",
    "# Afficher un message de bienvenue\n",
    "oled.text(\"Initialisation...\", 0, 0, 1)\n",
    "oled.show()\n",
    "\n",
    "# Pause pour permettre à l'utilisateur de voir le message\n",
    "time.sleep(2)\n",
    "\n",
    "# Effacer l'écran après le message de bienvenue\n",
    "oled.fill(0)\n",
    "oled.show()"
   ]
  },
  {
   "cell_type": "markdown",
   "metadata": {},
   "source": [
    "# Lire la température du capteur\n",
    "Lire la température à partir du capteur connecté au HTCC-AB02."
   ]
  },
  {
   "cell_type": "code",
   "execution_count": null,
   "metadata": {},
   "outputs": [],
   "source": [
    "# Lire la température du capteur\n",
    "try:\n",
    "    temperature = dht.temperature\n",
    "    if temperature is not None:\n",
    "        # Afficher la température sur l'écran OLED\n",
    "        oled.fill(0)\n",
    "        oled.text(f\"Temp: {temperature:.1f} C\", 0, 0, 1)\n",
    "        oled.show()\n",
    "    else:\n",
    "        oled.fill(0)\n",
    "        oled.text(\"Erreur de lecture\", 0, 0, 1)\n",
    "        oled.show()\n",
    "except RuntimeError as error:\n",
    "    oled.fill(0)\n",
    "    oled.text(\"Erreur capteur\", 0, 0, 1)\n",
    "    oled.show()"
   ]
  },
  {
   "cell_type": "markdown",
   "metadata": {},
   "source": [
    "# Afficher la température sur l'écran OLED\n",
    "Afficher la température lue sur l'écran OLED en utilisant les fonctions de la bibliothèque OLED."
   ]
  },
  {
   "cell_type": "code",
   "execution_count": null,
   "metadata": {},
   "outputs": [],
   "source": [
    "# Afficher la température sur l'écran OLED\n",
    "while True:\n",
    "    try:\n",
    "        temperature = dht.temperature\n",
    "        if temperature is not None:\n",
    "            # Effacer l'écran avant d'afficher la nouvelle température\n",
    "            oled.fill(0)\n",
    "            oled.text(f\"Temp: {temperature:.1f} C\", 0, 0, 1)\n",
    "            oled.show()\n",
    "        else:\n",
    "            oled.fill(0)\n",
    "            oled.text(\"Erreur de lecture\", 0, 0, 1)\n",
    "            oled.show()\n",
    "    except RuntimeError as error:\n",
    "        oled.fill(0)\n",
    "        oled.text(\"Erreur capteur\", 0, 0, 1)\n",
    "        oled.show()\n",
    "    \n",
    "    # Attendre 2 secondes avant de lire à nouveau\n",
    "    time.sleep(2)"
   ]
  }
 ],
 "metadata": {
  "language_info": {
   "name": "python"
  }
 },
 "nbformat": 4,
 "nbformat_minor": 2
}
